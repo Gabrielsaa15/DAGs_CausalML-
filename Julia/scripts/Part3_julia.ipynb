{
  "nbformat": 4,
  "nbformat_minor": 0,
  "metadata": {
    "colab": {
      "provenance": []
    },
    "kernelspec": {
      "name": "julia",
      "display_name": "Julia"
    },
    "language_info": {
      "name": "julia"
    }
  },
  "cells": [
    {
      "cell_type": "code",
      "execution_count": null,
      "metadata": {
        "colab": {
          "base_uri": "https://localhost:8080/"
        },
        "id": "i1PwyKVevhGh",
        "outputId": "06a78b60-1be0-4ffa-d41b-08b8b8e1b673"
      },
      "outputs": [
        {
          "output_type": "stream",
          "name": "stderr",
          "text": [
            "\u001b[32m\u001b[1m   Resolving\u001b[22m\u001b[39m package versions...\n",
            "\u001b[32m\u001b[1m  No Changes\u001b[22m\u001b[39m to `~/.julia/environments/v1.11/Project.toml`\n",
            "\u001b[32m\u001b[1m  No Changes\u001b[22m\u001b[39m to `~/.julia/environments/v1.11/Manifest.toml`\n",
            "\u001b[92m\u001b[1mPrecompiling\u001b[22m\u001b[39m project...\n",
            "\u001b[33m\u001b[1m┌ \u001b[22m\u001b[39m\u001b[33m\u001b[1mWarning: \u001b[22m\u001b[39mattempting to remove probably stale pidfile\n",
            "\u001b[33m\u001b[1m│ \u001b[22m\u001b[39m  path = \"/root/.julia/compiled/v1.11/Reactant/p9PzF_MJWkB.ji.pidfile\"\n",
            "\u001b[33m\u001b[1m└ \u001b[22m\u001b[39m\u001b[90m@ FileWatching.Pidfile /usr/local/share/julia/stdlib/v1.11/FileWatching/src/pidfile.jl:249\u001b[39m\n"
          ]
        }
      ],
      "source": [
        "# Instalar paquetes necesarios\n",
        "using Pkg\n",
        "Pkg.add(\"DataFrames\")\n",
        "Pkg.add(\"GLM\")\n",
        "Pkg.add(\"Plots\")\n",
        "Pkg.add(\"Combinatorics\")\n",
        "Pkg.add(\"CSV\")\n",
        "\n",
        "# Cargar paquetes\n",
        "using Random\n",
        "using DataFrames\n",
        "using GLM\n",
        "using Plots\n",
        "using Combinatorics\n",
        "using CSV"
      ]
    },
    {
      "cell_type": "code",
      "source": [
        "# Crear directorio de salida\n",
        "OUT_DIR = \"Julia_output_part3\"\n",
        "mkpath(OUT_DIR)"
      ],
      "metadata": {
        "colab": {
          "base_uri": "https://localhost:8080/"
        },
        "id": "iK4o0Mls0zDS",
        "outputId": "5236cd19-7ea6-46ba-a450-cadb9d0fe6eb"
      },
      "execution_count": 1,
      "outputs": [
        {
          "output_type": "execute_result",
          "data": {
            "text/plain": [
              "\"Julia_output_part3\""
            ]
          },
          "metadata": {},
          "execution_count": 1
        }
      ]
    },
    {
      "cell_type": "code",
      "source": [
        "Random.seed!(2025)\n",
        "\n",
        "# Parámetros\n",
        "n = 2000         # observaciones\n",
        "n_sims = 200     # simulaciones para el plot comparativo\n",
        "true_beta = 2.0  # efecto verdadero X -> Y"
      ],
      "metadata": {
        "colab": {
          "base_uri": "https://localhost:8080/",
          "height": 159
        },
        "id": "MEBLmu3W1lsy",
        "outputId": "28de1f35-f4e8-4c85-9ed8-4fc615c24124"
      },
      "execution_count": 2,
      "outputs": [
        {
          "output_type": "error",
          "ename": "LoadError",
          "evalue": "UndefVarError: `Random` not defined in `Main`\nSuggestion: check for spelling errors or missing imports.\nHint: Random is loaded but not imported in the active module Main.",
          "traceback": [
            "UndefVarError: `Random` not defined in `Main`\nSuggestion: check for spelling errors or missing imports.\nHint: Random is loaded but not imported in the active module Main.",
            "",
            "Stacktrace:",
            " [1] top-level scope",
            "\u001b[90m   @\u001b[39m \u001b[90m\u001b[4mIn[2]:1\u001b[24m\u001b[39m"
          ]
        }
      ]
    },
    {
      "cell_type": "code",
      "source": [
        "\"\"\"\n",
        "    simulate_data_image_dag(n::Int; z_affects_x::Bool=false)\n",
        "\n",
        "Simula datos para el DAG de la imagen:\n",
        "  U1 -> X\n",
        "  U1 -> Z\n",
        "  U2 -> Z\n",
        "  U2 -> Y\n",
        "  Z  -> Y\n",
        "  X  -> Y\n",
        "\n",
        "Si z_affects_x=true añadimos Z -> X (escenario modificado).\n",
        "\"\"\"\n",
        "function simulate_data_image_dag(n::Int; z_affects_x::Bool=false)\n",
        "    U1 = randn(n)\n",
        "    U2 = randn(n)\n",
        "    eps_x = randn(n)\n",
        "    eps_y = randn(n)\n",
        "    eps_z = randn(n)\n",
        "\n",
        "    if !z_affects_x\n",
        "        # Escenario inicial (imagen): Z no -> X\n",
        "        X = 0.8 .* U1 .+ 0.4 .* randn(n) .+ eps_x\n",
        "        Z = 0.6 .* U1 .+ 0.7 .* U2 .+ eps_z\n",
        "    else\n",
        "        # Escenario modificado: añadimos Z -> X\n",
        "        Z = 0.6 .* U1 .+ 0.7 .* U2 .+ eps_z\n",
        "        X = 0.8 .* U1 .+ 0.5 .* Z .+ eps_x\n",
        "    end\n",
        "\n",
        "    Y = true_beta .* X .+ 0.5 .* U1 .+ 0.6 .* U2 .+ eps_y\n",
        "\n",
        "    return DataFrame(Y=Y, X=X, Z=Z, U1=U1, U2=U2)\n",
        "end"
      ],
      "metadata": {
        "colab": {
          "base_uri": "https://localhost:8080/"
        },
        "id": "QWN9bjHl1ptQ",
        "outputId": "46c67249-93c9-4c7d-a2ab-cee3f7e530b6"
      },
      "execution_count": 9,
      "outputs": [
        {
          "output_type": "execute_result",
          "data": {
            "text/plain": [
              "simulate_data_image_dag"
            ]
          },
          "metadata": {},
          "execution_count": 9
        }
      ]
    },
    {
      "cell_type": "code",
      "source": [
        "\n",
        "\"\"\"\n",
        "    run_comparison(; n_sims=200, n=2000, z_affects_x=false)\n",
        "\n",
        "Ejecuta comparación entre modelos con y sin control por Z.\n",
        "\"\"\"\n",
        "function run_comparison(; n_sims::Int=200, n::Int=2000, z_affects_x::Bool=false)\n",
        "    coef_no_z = Float64[]\n",
        "    se_no_z = Float64[]\n",
        "    coef_with_z = Float64[]\n",
        "    se_with_z = Float64[]\n",
        "\n",
        "    for i in 1:n_sims\n",
        "        df = simulate_data_image_dag(n; z_affects_x=z_affects_x)\n",
        "\n",
        "        # Modelo sin Z: Y ~ X\n",
        "        m1 = lm(@formula(Y ~ X), df)\n",
        "        push!(coef_no_z, coef(m1)[2])      # coeficiente de X\n",
        "        push!(se_no_z, stderror(m1)[2])\n",
        "\n",
        "        # Modelo con Z: Y ~ X + Z\n",
        "        m2 = lm(@formula(Y ~ X + Z), df)\n",
        "        push!(coef_with_z, coef(m2)[2])    # coeficiente de X\n",
        "        push!(se_with_z, stderror(m2)[2])\n",
        "    end\n",
        "\n",
        "    return DataFrame(\n",
        "        coef_no_z = coef_no_z,\n",
        "        se_no_z = se_no_z,\n",
        "        coef_with_z = coef_with_z,\n",
        "        se_with_z = se_with_z\n",
        "    )\n",
        "end"
      ],
      "metadata": {
        "colab": {
          "base_uri": "https://localhost:8080/"
        },
        "id": "X-rn0LPI1uNZ",
        "outputId": "11c980ae-8d27-43b7-efe9-04c184dc71d6"
      },
      "execution_count": 10,
      "outputs": [
        {
          "output_type": "execute_result",
          "data": {
            "text/plain": [
              "run_comparison"
            ]
          },
          "metadata": {},
          "execution_count": 10
        }
      ]
    },
    {
      "cell_type": "markdown",
      "source": [
        "### ===== GRÁFICO 1: Comparación de coeficientes ====="
      ],
      "metadata": {
        "id": "IvoZnDag30z7"
      }
    },
    {
      "cell_type": "code",
      "source": [
        "p = plot(size=(1000, 500),\n",
        "    xlabel=\"Simulación\",\n",
        "    ylabel=\"Estimador de β (coef en X)\",\n",
        "    title=\"Estimates of β across simulations — con/sin control por Z (DAG imagen)\",\n",
        "    legend=:topright)\n",
        "\n",
        "# Scatter plots\n",
        "scatter!(p, 1:nrow(res_base), res_base.coef_no_z,\n",
        "    alpha=0.45, label=\"coef (no Z)\", markersize=3, color=:blue)\n",
        "scatter!(p, 1:nrow(res_base), res_base.coef_with_z,\n",
        "    alpha=0.6, label=\"coef (with Z)\", markersize=3, color=:orange)\n",
        "\n",
        "# Línea horizontal para true_beta\n",
        "hline!(p, [true_beta], linestyle=:dash, linewidth=2,\n",
        "    label=\"True β = $true_beta\", color=:red)\n",
        "\n",
        "plot_path = joinpath(OUT_DIR, \"coef_plot_image_dag.png\")\n",
        "savefig(p, plot_path)\n",
        "println(\"Saved: \", plot_path)"
      ],
      "metadata": {
        "colab": {
          "base_uri": "https://localhost:8080/"
        },
        "id": "IrONVYXM2K6P",
        "outputId": "8fa050d1-9d1d-48ba-c77b-d17bf6646f52"
      },
      "execution_count": 11,
      "outputs": [
        {
          "output_type": "stream",
          "name": "stdout",
          "text": [
            "Saved: Julia_output_part3/coef_plot_image_dag.png\n"
          ]
        }
      ]
    },
    {
      "cell_type": "code",
      "source": [
        "p"
      ],
      "metadata": {
        "colab": {
          "base_uri": "https://localhost:8080/",
          "height": 72
        },
        "id": "tLfjTKDV3ZVU",
        "outputId": "61815e71-1e02-44ab-818a-8bd3601da953"
      },
      "execution_count": 1,
      "outputs": [
        {
          "output_type": "error",
          "ename": "LoadError",
          "evalue": "UndefVarError: `p` not defined in `Main`\nSuggestion: check for spelling errors or missing imports.",
          "traceback": [
            "UndefVarError: `p` not defined in `Main`\nSuggestion: check for spelling errors or missing imports.",
            ""
          ]
        }
      ]
    },
    {
      "cell_type": "markdown",
      "source": [
        "### ===== ANÁLISIS CON TODAS LAS COMBINACIONES DE CONTROLES ====="
      ],
      "metadata": {
        "id": "ieSWy_a23lrs"
      }
    },
    {
      "cell_type": "code",
      "source": [
        "# Simular un dataset con Z -> X (escenario modificado)\n",
        "df_mod = simulate_data_image_dag(n, z_affects_x=true)\n",
        "\n",
        "controls = [\"Z\", \"U1\", \"U2\"]\n",
        "combos = [[]]  # Empezar con subset vacío\n",
        "\n",
        "# Generar todas las combinaciones\n",
        "for r in 1:length(controls)\n",
        "    append!(combos, collect(combinations(controls, r)))\n",
        "end\n",
        "\n",
        "# Ejecutar regresiones para cada combinación\n",
        "results = DataFrame(controls=String[], β=Float64[], SE=Float64[])\n",
        "\n",
        "for subset in combos\n",
        "    # Construir fórmula dinámicamente\n",
        "    X_vars = vcat([\"X\"], subset)\n",
        "    formula_str = \"Y ~ \" * join(X_vars, \" + \")\n",
        "\n",
        "    # Convertir string a fórmula y ejecutar regresión\n",
        "    formula_obj = eval(Meta.parse(\"@formula($formula_str)\"))\n",
        "    mod = lm(formula_obj, df_mod)\n",
        "\n",
        "    # Guardar resultados\n",
        "    control_str = isempty(subset) ? \"(none)\" : join(subset, \",\")\n",
        "    push!(results, (control_str, coef(mod)[2], stderror(mod)[2]))\n",
        "end\n",
        "\n",
        "# Ordenar por nombre de controles\n",
        "sort!(results, :controls)\n",
        "\n",
        "println(\"\\n===== Resultados de regresiones =====\")\n",
        "println(results)"
      ],
      "metadata": {
        "colab": {
          "base_uri": "https://localhost:8080/"
        },
        "id": "nNOfg9GV25kG",
        "outputId": "1af79fb7-ed4e-4483-ee48-566cda806237"
      },
      "execution_count": 14,
      "outputs": [
        {
          "output_type": "stream",
          "name": "stdout",
          "text": [
            "\n",
            "===== Resultados de regresiones =====\n",
            "\u001b[1m8×3 DataFrame\n",
            "\u001b[1m Row │\u001b[1m controls \u001b[1m β       \u001b[1m SE\n",
            "\u001b[1m     │\u001b[90m String   \u001b[90m Float64 \u001b[90m Float64\n",
            "─────┼──────────────────────────────\n",
            "   1 │ (none)    2.27981  0.0160739\n",
            "   2 │ U1        2.1456   0.0215644\n",
            "   3 │ U1,U2     2.00239  0.019684\n",
            "   4 │ U2        2.21677  0.0148697\n",
            "   5 │ Z         2.11037  0.0203791\n",
            "   6 │ Z,U1      1.9814   0.0243409\n",
            "   7 │ Z,U1,U2   1.98698  0.0221065\n",
            "   8 │ Z,U2      2.17124  0.0194943\n"
          ]
        }
      ]
    },
    {
      "cell_type": "markdown",
      "source": [
        "### ===== GRÁFICO 2: Error bars para todas las combinaciones =====\n"
      ],
      "metadata": {
        "id": "LTrQUgHZ4b8R"
      }
    },
    {
      "cell_type": "code",
      "source": [
        "p2 = plot(size=(900, 500),\n",
        "    ylabel=\"Estimate of β (coef on X)\",\n",
        "    title=\"Estimates (β) for all control combos — scenario Z→X (modified)\",\n",
        "    legend=:topright,\n",
        "    bottom_margin=10Plots.mm)\n",
        "\n",
        "# Error bars con intervalo de confianza 95%\n",
        "scatter!(p2, 1:nrow(results), results.β,\n",
        "    yerror=1.96 .* results.SE,\n",
        "    label=\"\", markersize=5, color=:blue)\n",
        "\n",
        "# Línea de referencia\n",
        "hline!(p2, [true_beta], linestyle=:dash, linewidth=2,\n",
        "    label=\"True β = $true_beta\", color=:red)\n",
        "\n",
        "# Configurar etiquetas del eje X\n",
        "plot!(p2, xticks=(1:nrow(results), results.controls),\n",
        "    xrotation=45)\n",
        "\n",
        "plot2_path = joinpath(OUT_DIR, \"estimates_combo_plot_image_dag.png\")\n",
        "savefig(p2, plot2_path)\n",
        "println(\"Saved: \", plot2_path)"
      ],
      "metadata": {
        "colab": {
          "base_uri": "https://localhost:8080/"
        },
        "id": "0V8oZ-Nm4boS",
        "outputId": "c7e22633-8a08-4e2b-8557-0e7721d2befb"
      },
      "execution_count": 15,
      "outputs": [
        {
          "output_type": "stream",
          "name": "stdout",
          "text": [
            "Saved: Julia_output_part3/estimates_combo_plot_image_dag.png\n"
          ]
        }
      ]
    },
    {
      "cell_type": "markdown",
      "source": [
        "### ===== CREAR DAG SIMPLE CON GRAPHPLOT ====="
      ],
      "metadata": {
        "id": "ehljTxVI4ozR"
      }
    },
    {
      "cell_type": "code",
      "source": [
        "# Nota: Julia no tiene un equivalente directo a causalgraphicalmodels\n",
        "# Usaremos GraphPlot.jl para visualización básica\n",
        "\n",
        "using Pkg\n",
        "Pkg.add(\"Graphs\")\n",
        "Pkg.add(\"GraphPlot\")\n",
        "\n",
        "using Graphs\n",
        "using GraphPlot\n",
        "\n",
        "# Crear grafo dirigido\n",
        "g = DiGraph(5)\n",
        "node_labels = [\"U1\", \"U2\", \"Z\", \"X\", \"Y\"]\n",
        "\n",
        "# Añadir aristas según el DAG\n",
        "edges_list = [\n",
        "    (1, 4),  # U1 -> X\n",
        "    (1, 3),  # U1 -> Z\n",
        "    (2, 3),  # U2 -> Z\n",
        "    (2, 5),  # U2 -> Y\n",
        "    (3, 5),  # Z -> Y\n",
        "    (4, 5)   # X -> Y\n",
        "]\n",
        "\n",
        "for (src, dst) in edges_list\n",
        "    add_edge!(g, src, dst)\n",
        "end\n",
        "\n",
        "# Posiciones manuales para mejor visualización\n",
        "locs_x = [-1.0, 1.0, 0.0, -1.0, 1.0]\n",
        "locs_y = [1.0, 1.0, 1.0, -1.0, -1.0]\n",
        "\n",
        "# Dibujar DAG\n",
        "dag_plot = gplot(g, locs_x, locs_y,\n",
        "    nodelabel=node_labels,\n",
        "    NODESIZE=0.15,\n",
        "    nodelabelsize=2.0,\n",
        "    arrowlengthfrac=0.05)\n",
        "\n",
        "# Guardar (requiere Compose.jl)\n",
        "Pkg.add(\"Compose\")\n",
        "using Compose\n",
        "\n",
        "dag_path = joinpath(OUT_DIR, \"dag_image_simple.svg\")\n",
        "draw(SVG(dag_path, 16cm, 12cm), dag_plot)\n",
        "println(\"Saved DAG: \", dag_path)\n",
        "\n",
        "println(\"\\n✓ Análisis completo finalizado\")"
      ],
      "metadata": {
        "colab": {
          "base_uri": "https://localhost:8080/"
        },
        "id": "IXnfgzza4jAJ",
        "outputId": "ca8206d3-e7b2-4f45-e17e-b0a1bdecb55b"
      },
      "execution_count": null,
      "outputs": [
        {
          "output_type": "stream",
          "name": "stderr",
          "text": [
            "\u001b[32m\u001b[1m   Resolving\u001b[22m\u001b[39m package versions...\n",
            "\u001b[32m\u001b[1m   Installed\u001b[22m\u001b[39m ArnoldiMethod ─ v0.4.0\n",
            "\u001b[32m\u001b[1m   Installed\u001b[22m\u001b[39m Graphs ──────── v1.13.1\n",
            "\u001b[32m\u001b[1m    Updating\u001b[22m\u001b[39m `~/.julia/environments/v1.11/Project.toml`\n",
            "  \u001b[90m[86223c79] \u001b[39m\u001b[92m+ Graphs v1.13.1\u001b[39m\n",
            "\u001b[32m\u001b[1m    Updating\u001b[22m\u001b[39m `~/.julia/environments/v1.11/Manifest.toml`\n",
            "  \u001b[90m[ec485272] \u001b[39m\u001b[92m+ ArnoldiMethod v0.4.0\u001b[39m\n",
            "  \u001b[90m[86223c79] \u001b[39m\u001b[92m+ Graphs v1.13.1\u001b[39m\n",
            "\u001b[92m\u001b[1mPrecompiling\u001b[22m\u001b[39m project...\n",
            "   3085.0 ms\u001b[32m  ✓ \u001b[39m\u001b[90mArnoldiMethod\u001b[39m\n",
            "   6950.5 ms\u001b[32m  ✓ \u001b[39mGraphs\n",
            "  2 dependencies successfully precompiled in 11 seconds. 491 already precompiled.\n",
            "\u001b[32m\u001b[1m   Resolving\u001b[22m\u001b[39m package versions...\n",
            "\u001b[32m\u001b[1m   Installed\u001b[22m\u001b[39m SIMD ───────────── v3.7.2\n",
            "\u001b[32m\u001b[1m   Installed\u001b[22m\u001b[39m LoggingExtras ──── v1.2.0\n",
            "\u001b[32m\u001b[1m   Installed\u001b[22m\u001b[39m HTTP ───────────── v1.10.19\n",
            "\u001b[32m\u001b[1m   Installed\u001b[22m\u001b[39m Enzyme_jll ─────── v0.0.203+0\n",
            "\u001b[32m\u001b[1m   Installed\u001b[22m\u001b[39m ColorTypes ─────── v0.11.5\n",
            "\u001b[32m\u001b[1m   Installed\u001b[22m\u001b[39m ColorVectorSpace ─ v0.10.0\n",
            "\u001b[32m\u001b[1m   Installed\u001b[22m\u001b[39m DataStructures ─── v0.18.22\n",
            "\u001b[32m\u001b[1m   Installed\u001b[22m\u001b[39m SpecialFunctions ─ v2.6.1\n",
            "\u001b[32m\u001b[1m   Installed\u001b[22m\u001b[39m Colors ─────────── v0.12.11\n",
            "\u001b[32m\u001b[1m   Installed\u001b[22m\u001b[39m Enzyme ─────────── v0.13.85\n",
            "\u001b[32m\u001b[1m   Installed\u001b[22m\u001b[39m GraphPlot ──────── v0.6.1\n",
            "\u001b[32m\u001b[1m   Installed\u001b[22m\u001b[39m Compose ────────── v0.9.6\n",
            "\u001b[32m\u001b[1m   Installed\u001b[22m\u001b[39m Distributions ──── v0.25.122\n",
            "\u001b[32m\u001b[1m    Updating\u001b[22m\u001b[39m `~/.julia/environments/v1.11/Project.toml`\n",
            "  \u001b[90m[a2cc645c] \u001b[39m\u001b[92m+ GraphPlot v0.6.1\u001b[39m\n",
            "\u001b[32m\u001b[1m    Updating\u001b[22m\u001b[39m `~/.julia/environments/v1.11/Manifest.toml`\n",
            "\u001b[33m⌅\u001b[39m \u001b[90m[3da002f7] \u001b[39m\u001b[95m↓ ColorTypes v0.12.1 ⇒ v0.11.5\u001b[39m\n",
            "\u001b[32m⌃\u001b[39m \u001b[90m[c3611d14] \u001b[39m\u001b[95m↓ ColorVectorSpace v0.11.0 ⇒ v0.10.0\u001b[39m\n",
            "\u001b[33m⌅\u001b[39m \u001b[90m[5ae59095] \u001b[39m\u001b[95m↓ Colors v0.13.1 ⇒ v0.12.11\u001b[39m\n",
            "  \u001b[90m[a81c6b42] \u001b[39m\u001b[92m+ Compose v0.9.6\u001b[39m\n",
            "\u001b[33m⌅\u001b[39m \u001b[90m[864edb3b] \u001b[39m\u001b[95m↓ DataStructures v0.19.1 ⇒ v0.18.22\u001b[39m\n",
            "  \u001b[90m[31c24e10] \u001b[39m\u001b[93m↑ Distributions v0.25.120 ⇒ v0.25.122\u001b[39m\n",
            "  \u001b[90m[7da242da] \u001b[39m\u001b[93m↑ Enzyme v0.13.84 ⇒ v0.13.85\u001b[39m\n",
            "  \u001b[90m[a2cc645c] \u001b[39m\u001b[92m+ GraphPlot v0.6.1\u001b[39m\n",
            "  \u001b[90m[cd3eb016] \u001b[39m\u001b[93m↑ HTTP v1.10.17 ⇒ v1.10.19\u001b[39m\n",
            "  \u001b[90m[e6f89c97] \u001b[39m\u001b[93m↑ LoggingExtras v1.1.0 ⇒ v1.2.0\u001b[39m\n",
            "  \u001b[90m[fdea26ae] \u001b[39m\u001b[93m↑ SIMD v3.7.1 ⇒ v3.7.2\u001b[39m\n",
            "  \u001b[90m[276daf66] \u001b[39m\u001b[93m↑ SpecialFunctions v2.5.1 ⇒ v2.6.1\u001b[39m\n",
            "  \u001b[90m[7cc45869] \u001b[39m\u001b[93m↑ Enzyme_jll v0.0.201+0 ⇒ v0.0.203+0\u001b[39m\n",
            "\u001b[36m\u001b[1m        Info\u001b[22m\u001b[39m Packages marked with \u001b[32m⌃\u001b[39m and \u001b[33m⌅\u001b[39m have new versions available. Those with \u001b[32m⌃\u001b[39m may be upgradable, but those with \u001b[33m⌅\u001b[39m are restricted by compatibility constraints from upgrading. To see why use `status --outdated -m`\n",
            "\u001b[92m\u001b[1mPrecompiling\u001b[22m\u001b[39m project...\n",
            "   2121.8 ms\u001b[32m  ✓ \u001b[39m\u001b[90mLoggingExtras\u001b[39m\n",
            "   5931.5 ms\u001b[33m  ✓ \u001b[39m\u001b[90mDataStructures\u001b[39m\n",
            "   8508.5 ms\u001b[33m  ✓ \u001b[39m\u001b[90mColorTypes\u001b[39m\n",
            "   5701.5 ms\u001b[32m  ✓ \u001b[39m\u001b[90mEnzyme_jll\u001b[39m\n",
            "   9626.5 ms\u001b[33m  ✓ \u001b[39m\u001b[90mSpecialFunctions\u001b[39m\n",
            "  10198.9 ms\u001b[33m  ✓ \u001b[39m\u001b[90mColorVectorSpace\u001b[39m\n",
            "  40562.6 ms\u001b[32m  ✓ \u001b[39m\u001b[90mSIMD\u001b[39m\n",
            "  20012.1 ms\u001b[33m  ✓ \u001b[39m\u001b[90mColors\u001b[39m\n",
            "   8601.1 ms\u001b[32m  ✓ \u001b[39m\u001b[90mSpecialFunctions → SpecialFunctionsChainRulesCoreExt\u001b[39m\n",
            "  42667.4 ms\u001b[33m  ✓ \u001b[39m\u001b[90mDistributions\u001b[39m\n",
            "   1956.3 ms\u001b[33m  ✓ \u001b[39m\u001b[90mColorVectorSpace → SpecialFunctionsExt\u001b[39m\n",
            " 100268.6 ms\u001b[32m  ✓ \u001b[39m\u001b[90mHTTP\u001b[39m\n",
            "  68673.3 ms\u001b[32m  ✓ \u001b[39m\u001b[90mAutoma\u001b[39m\n",
            "   8727.8 ms\u001b[32m  ✓ \u001b[39m\u001b[90mCompose\u001b[39m\n",
            "  39320.4 ms\u001b[32m  ✓ \u001b[39m\u001b[90mLuxLib\u001b[39m\n",
            "   3724.8 ms\u001b[32m  ✓ \u001b[39m\u001b[90mDistributions → DistributionsTestExt\u001b[39m\n",
            "   4065.8 ms\u001b[32m  ✓ \u001b[39m\u001b[90mDistributions → DistributionsChainRulesCoreExt\u001b[39m\n",
            "   4782.0 ms\u001b[32m  ✓ \u001b[39m\u001b[90mFileIO → HTTPExt\u001b[39m\n",
            "  39422.9 ms\u001b[32m  ✓ \u001b[39m\u001b[90mMathTeXEngine\u001b[39m\n",
            "  18967.5 ms\u001b[32m  ✓ \u001b[39mGraphPlot\n",
            " 174877.2 ms\u001b[32m  ✓ \u001b[39m\u001b[90mTiffImages\u001b[39m\n",
            "  97173.3 ms\u001b[32m  ✓ \u001b[39mLux\n",
            "  11435.3 ms\u001b[32m  ✓ \u001b[39m\u001b[90mKernelDensity\u001b[39m\n"
          ]
        }
      ]
    }
  ]
}