{
  "nbformat": 4,
  "nbformat_minor": 0,
  "metadata": {
    "colab": {
      "provenance": []
    },
    "kernelspec": {
      "name": "ir",
      "display_name": "R"
    },
    "language_info": {
      "name": "R"
    }
  },
  "cells": [
    {
      "cell_type": "code",
      "execution_count": 12,
      "metadata": {
        "colab": {
          "base_uri": "https://localhost:8080/"
        },
        "id": "M_4Bmcq0Kwi6",
        "outputId": "cbf3aec9-bbd5-4c3a-d8a5-5cc15f6d67a7"
      },
      "outputs": [
        {
          "output_type": "stream",
          "name": "stderr",
          "text": [
            "Installing package into ‘/usr/local/lib/R/site-library’\n",
            "(as ‘lib’ is unspecified)\n",
            "\n",
            "Installing package into ‘/usr/local/lib/R/site-library’\n",
            "(as ‘lib’ is unspecified)\n",
            "\n",
            "Installing package into ‘/usr/local/lib/R/site-library’\n",
            "(as ‘lib’ is unspecified)\n",
            "\n",
            "Installing package into ‘/usr/local/lib/R/site-library’\n",
            "(as ‘lib’ is unspecified)\n",
            "\n",
            "Installing package into ‘/usr/local/lib/R/site-library’\n",
            "(as ‘lib’ is unspecified)\n",
            "\n",
            "Installing package into ‘/usr/local/lib/R/site-library’\n",
            "(as ‘lib’ is unspecified)\n",
            "\n"
          ]
        }
      ],
      "source": [
        "#Paso 1: Instalar las librerías necesarias\n",
        "install.packages(\"dagitty\")\n",
        "install.packages(\"ggdag\")\n",
        "install.packages(\"ggplot2\")\n",
        "install.packages(\"dplyr\")\n",
        "install.packages(\"broom\")\n",
        "install.packages(\"stargazer\")   # para exportar tablas"
      ]
    },
    {
      "cell_type": "code",
      "source": [
        "#Paso 2: Cargar las librerías\n",
        "library(dagitty)\n",
        "library(ggdag)\n",
        "library(ggplot2)\n",
        "library(dplyr)\n",
        "library(broom)\n",
        "library(stargazer)"
      ],
      "metadata": {
        "colab": {
          "base_uri": "https://localhost:8080/"
        },
        "id": "8yVo_Ep3WNkD",
        "outputId": "5c9b0a2e-7949-4209-8f41-a7633a04451d"
      },
      "execution_count": 2,
      "outputs": [
        {
          "output_type": "stream",
          "name": "stderr",
          "text": [
            "\n",
            "Attaching package: ‘ggdag’\n",
            "\n",
            "\n",
            "The following object is masked from ‘package:stats’:\n",
            "\n",
            "    filter\n",
            "\n",
            "\n",
            "\n",
            "Attaching package: ‘dplyr’\n",
            "\n",
            "\n",
            "The following objects are masked from ‘package:stats’:\n",
            "\n",
            "    filter, lag\n",
            "\n",
            "\n",
            "The following objects are masked from ‘package:base’:\n",
            "\n",
            "    intersect, setdiff, setequal, union\n",
            "\n",
            "\n",
            "\n",
            "Please cite as: \n",
            "\n",
            "\n",
            " Hlavac, Marek (2022). stargazer: Well-Formatted Regression and Summary Statistics Tables.\n",
            "\n",
            " R package version 5.2.3. https://CRAN.R-project.org/package=stargazer \n",
            "\n",
            "\n"
          ]
        }
      ]
    },
    {
      "cell_type": "code",
      "source": [
        "#Paso 3: Definir y graficar el DAG inicial (Ejemplo 4: Damned if you do, damned if you don’t)\n",
        "# DAG original\n",
        "dag1 <- dagitty(\"dag {\n",
        "  U1 -> X\n",
        "  U1 -> Z\n",
        "  U2 -> Z\n",
        "  U2 -> Y\n",
        "  X -> Y\n",
        "  Z -> Y\n",
        "}\")\n",
        "\n",
        "plot(graphLayout(dag1))"
      ],
      "metadata": {
        "colab": {
          "base_uri": "https://localhost:8080/",
          "height": 437
        },
        "id": "bo-mnmJjWQkY",
        "outputId": "35b2a532-39a8-49aa-d4ef-7b8b98d26fe7"
      },
      "execution_count": 3,
      "outputs": [
        {
          "output_type": "display_data",
          "data": {
            "text/plain": [
              "plot without title"
            ],
            "image/png": "[encoded data removed]"
          },
          "metadata": {
            "image/png": {
              "width": 420,
              "height": 420
            }
          }
        }
      ]
    },
    {
      "cell_type": "code",
      "source": [
        "#Paso 4: Simular datos de acuerdo al DAG\n",
        "set.seed(123)\n",
        "\n",
        "n <- 2000\n",
        "U1 <- rnorm(n)\n",
        "U2 <- rnorm(n)\n",
        "Z  <- 0.6*U1 + 0.8*U2 + rnorm(n)\n",
        "X  <- 0.7*U1 + rnorm(n)\n",
        "Y  <- 1*X + 0.5*Z + 0.8*U2 + rnorm(n)\n",
        "\n",
        "data <- data.frame(Y, X, Z, U1, U2)\n",
        "head(data)"
      ],
      "metadata": {
        "colab": {
          "base_uri": "https://localhost:8080/",
          "height": 286
        },
        "id": "PEY_2G3cWSvn",
        "outputId": "36cb8819-6fec-48af-d7da-48660f20232b"
      },
      "execution_count": 4,
      "outputs": [
        {
          "output_type": "display_data",
          "data": {
            "text/html": [
              "<table class=\"dataframe\">\n",
              "<caption>A data.frame: 6 × 5</caption>\n",
              "<thead>\n",
              "\t<tr><th></th><th scope=col>Y</th><th scope=col>X</th><th scope=col>Z</th><th scope=col>U1</th><th scope=col>U2</th></tr>\n",
              "\t<tr><th></th><th scope=col>&lt;dbl&gt;</th><th scope=col>&lt;dbl&gt;</th><th scope=col>&lt;dbl&gt;</th><th scope=col>&lt;dbl&gt;</th><th scope=col>&lt;dbl&gt;</th></tr>\n",
              "</thead>\n",
              "<tbody>\n",
              "\t<tr><th scope=row>1</th><td>-1.2643529</td><td>-1.09156106</td><td>-0.5490186</td><td>-0.56047565</td><td>-0.5116037</td></tr>\n",
              "\t<tr><th scope=row>2</th><td> 3.1836489</td><td> 0.83532729</td><td> 0.7015570</td><td>-0.23017749</td><td> 0.2369379</td></tr>\n",
              "\t<tr><th scope=row>3</th><td>-1.1510569</td><td> 0.39835047</td><td> 1.1729578</td><td> 1.55870831</td><td>-0.5415892</td></tr>\n",
              "\t<tr><th scope=row>4</th><td> 1.0754684</td><td>-0.05412717</td><td>-0.2664706</td><td> 0.07050839</td><td> 1.2192276</td></tr>\n",
              "\t<tr><th scope=row>5</th><td>-0.3400521</td><td> 0.69436748</td><td>-1.8092282</td><td> 0.12928774</td><td> 0.1741359</td></tr>\n",
              "\t<tr><th scope=row>6</th><td> 1.0918363</td><td> 0.59250051</td><td> 2.7421504</td><td> 1.71506499</td><td>-0.6152683</td></tr>\n",
              "</tbody>\n",
              "</table>\n"
            ],
            "text/markdown": "\nA data.frame: 6 × 5\n\n| <!--/--> | Y &lt;dbl&gt; | X &lt;dbl&gt; | Z &lt;dbl&gt; | U1 &lt;dbl&gt; | U2 &lt;dbl&gt; |\n|---|---|---|---|---|---|\n| 1 | -1.2643529 | -1.09156106 | -0.5490186 | -0.56047565 | -0.5116037 |\n| 2 |  3.1836489 |  0.83532729 |  0.7015570 | -0.23017749 |  0.2369379 |\n| 3 | -1.1510569 |  0.39835047 |  1.1729578 |  1.55870831 | -0.5415892 |\n| 4 |  1.0754684 | -0.05412717 | -0.2664706 |  0.07050839 |  1.2192276 |\n| 5 | -0.3400521 |  0.69436748 | -1.8092282 |  0.12928774 |  0.1741359 |\n| 6 |  1.0918363 |  0.59250051 |  2.7421504 |  1.71506499 | -0.6152683 |\n\n",
            "text/latex": "A data.frame: 6 × 5\n\\begin{tabular}{r|lllll}\n  & Y & X & Z & U1 & U2\\\\\n  & <dbl> & <dbl> & <dbl> & <dbl> & <dbl>\\\\\n\\hline\n\t1 & -1.2643529 & -1.09156106 & -0.5490186 & -0.56047565 & -0.5116037\\\\\n\t2 &  3.1836489 &  0.83532729 &  0.7015570 & -0.23017749 &  0.2369379\\\\\n\t3 & -1.1510569 &  0.39835047 &  1.1729578 &  1.55870831 & -0.5415892\\\\\n\t4 &  1.0754684 & -0.05412717 & -0.2664706 &  0.07050839 &  1.2192276\\\\\n\t5 & -0.3400521 &  0.69436748 & -1.8092282 &  0.12928774 &  0.1741359\\\\\n\t6 &  1.0918363 &  0.59250051 &  2.7421504 &  1.71506499 & -0.6152683\\\\\n\\end{tabular}\n",
            "text/plain": [
              "  Y          X           Z          U1          U2        \n",
              "1 -1.2643529 -1.09156106 -0.5490186 -0.56047565 -0.5116037\n",
              "2  3.1836489  0.83532729  0.7015570 -0.23017749  0.2369379\n",
              "3 -1.1510569  0.39835047  1.1729578  1.55870831 -0.5415892\n",
              "4  1.0754684 -0.05412717 -0.2664706  0.07050839  1.2192276\n",
              "5 -0.3400521  0.69436748 -1.8092282  0.12928774  0.1741359\n",
              "6  1.0918363  0.59250051  2.7421504  1.71506499 -0.6152683"
            ]
          },
          "metadata": {}
        }
      ]
    },
    {
      "cell_type": "code",
      "source": [
        "#Paso 5: Regresiones con y sin controlar por Z\n",
        "# Sin Z\n",
        "model1 <- lm(Y ~ X, data = data)\n",
        "\n",
        "# Con Z\n",
        "model2 <- lm(Y ~ X + Z, data = data)\n",
        "\n",
        "summary(model1)\n",
        "summary(model2)"
      ],
      "metadata": {
        "colab": {
          "base_uri": "https://localhost:8080/",
          "height": 659
        },
        "id": "mzgnXD3rWUMH",
        "outputId": "1c2e01f7-5f5f-49ae-e5cf-1949b55e7d21"
      },
      "execution_count": 5,
      "outputs": [
        {
          "output_type": "display_data",
          "data": {
            "text/plain": [
              "\n",
              "Call:\n",
              "lm(formula = Y ~ X, data = data)\n",
              "\n",
              "Residuals:\n",
              "    Min      1Q  Median      3Q     Max \n",
              "-5.7455 -1.1547  0.0265  1.1164  6.6005 \n",
              "\n",
              "Coefficients:\n",
              "            Estimate Std. Error t value Pr(>|t|)    \n",
              "(Intercept) -0.02324    0.03794  -0.613     0.54    \n",
              "X            1.16103    0.03116  37.259   <2e-16 ***\n",
              "---\n",
              "Signif. codes:  0 ‘***’ 0.001 ‘**’ 0.01 ‘*’ 0.05 ‘.’ 0.1 ‘ ’ 1\n",
              "\n",
              "Residual standard error: 1.697 on 1998 degrees of freedom\n",
              "Multiple R-squared:   0.41,\tAdjusted R-squared:  0.4097 \n",
              "F-statistic:  1388 on 1 and 1998 DF,  p-value: < 2.2e-16\n"
            ]
          },
          "metadata": {}
        },
        {
          "output_type": "display_data",
          "data": {
            "text/plain": [
              "\n",
              "Call:\n",
              "lm(formula = Y ~ X + Z, data = data)\n",
              "\n",
              "Residuals:\n",
              "    Min      1Q  Median      3Q     Max \n",
              "-4.4078 -0.8471 -0.0009  0.7737  4.3128 \n",
              "\n",
              "Coefficients:\n",
              "            Estimate Std. Error t value Pr(>|t|)    \n",
              "(Intercept) -0.02776    0.02727  -1.018    0.309    \n",
              "X            0.93232    0.02301  40.523   <2e-16 ***\n",
              "Z            0.86362    0.01996  43.270   <2e-16 ***\n",
              "---\n",
              "Signif. codes:  0 ‘***’ 0.001 ‘**’ 0.01 ‘*’ 0.05 ‘.’ 0.1 ‘ ’ 1\n",
              "\n",
              "Residual standard error: 1.219 on 1997 degrees of freedom\n",
              "Multiple R-squared:  0.6955,\tAdjusted R-squared:  0.6952 \n",
              "F-statistic:  2280 on 2 and 1997 DF,  p-value: < 2.2e-16\n"
            ]
          },
          "metadata": {}
        }
      ]
    },
    {
      "cell_type": "code",
      "source": [
        "#Paso 6: Graficar coeficientes de X con y sin Z\n",
        "results <- bind_rows(\n",
        "  tidy(model1) %>% filter(term==\"X\") %>% mutate(model=\"Sin Z\"),\n",
        "  tidy(model2) %>% filter(term==\"X\") %>% mutate(model=\"Con Z\")\n",
        ")\n",
        "\n",
        "ggplot(results, aes(x=model, y=estimate, ymin=estimate-2*std.error, ymax=estimate+2*std.error)) +\n",
        "  geom_point(size=3, color=\"blue\") +\n",
        "  geom_errorbar(width=0.1, color=\"blue\") +\n",
        "  geom_hline(yintercept=1, linetype=\"dashed\", color=\"red\") +\n",
        "  labs(title=\"Efecto de X sobre Y con y sin Z\",\n",
        "       y=\"Coeficiente estimado (β)\", x=\"Modelo\")"
      ],
      "metadata": {
        "colab": {
          "base_uri": "https://localhost:8080/",
          "height": 437
        },
        "id": "aezbaQ_IWVwQ",
        "outputId": "42c7ce04-3bff-4de4-9eb9-dc25d0b5a9ef"
      },
      "execution_count": 6,
      "outputs": [
        {
          "output_type": "display_data",
          "data": {
            "text/plain": [
              "plot without title"
            ],
            "image/png": "[encoded data removed]"
          },
          "metadata": {
            "image/png": {
              "width": 420,
              "height": 420
            }
          }
        }
      ]
    },
    {
      "cell_type": "code",
      "source": [
        "#Paso 7: Modificar el DAG para que Z → X\n",
        "dag2 <- dagitty(\"dag {\n",
        "  U1 -> X\n",
        "  U1 -> Z\n",
        "  U2 -> Z\n",
        "  U2 -> Y\n",
        "  X -> Y\n",
        "  Z -> Y\n",
        "  Z -> X\n",
        "}\")\n",
        "\n",
        "plot(graphLayout(dag2))"
      ],
      "metadata": {
        "colab": {
          "base_uri": "https://localhost:8080/",
          "height": 437
        },
        "id": "LOUxJkzNWW7Y",
        "outputId": "5e8f3b55-93bf-464a-b68a-6b838908202b"
      },
      "execution_count": 7,
      "outputs": [
        {
          "output_type": "display_data",
          "data": {
            "text/plain": [
              "plot without title"
            ],
            "image/png": "[encoded data removed]"
          },
          "metadata": {
            "image/png": {
              "width": 420,
              "height": 420
            }
          }
        }
      ]
    },
    {
      "cell_type": "code",
      "source": [
        "#Paso 8: Simulación con el nuevo DAGset.seed(456)\n",
        "\n",
        "Z  <- 0.6*U1 + 0.8*U2 + rnorm(n)\n",
        "X  <- 0.7*U1 + 0.5*Z + rnorm(n)\n",
        "Y  <- 1*X + 0.5*Z + 0.8*U2 + rnorm(n)\n",
        "\n",
        "data2 <- data.frame(Y, X, Z, U1, U2)"
      ],
      "metadata": {
        "id": "DRb0pH_uWaPv"
      },
      "execution_count": 8,
      "outputs": []
    },
    {
      "cell_type": "code",
      "source": [
        "#Paso 9: Todas las regresiones con combinaciones de Z, U1, U2 (2³ = 8 modelos)\n",
        "controls <- list(\n",
        "  c(), c(\"Z\"), c(\"U1\"), c(\"U2\"),\n",
        "  c(\"Z\",\"U1\"), c(\"Z\",\"U2\"), c(\"U1\",\"U2\"), c(\"Z\",\"U1\",\"U2\")\n",
        ")\n",
        "\n",
        "results <- data.frame()\n",
        "\n",
        "for (ctrl in controls){\n",
        "  formula <- as.formula(paste(\"Y ~ X\", if(length(ctrl)>0) paste(\"+\", paste(ctrl, collapse=\"+\")) else \"\"))\n",
        "  model <- lm(formula, data=data2)\n",
        "  res <- tidy(model) %>% filter(term==\"X\") %>%\n",
        "    select(estimate, std.error) %>%\n",
        "    mutate(controls=paste(ctrl, collapse=\",\"))\n",
        "  results <- bind_rows(results, res)\n",
        "}\n",
        "\n",
        "results"
      ],
      "metadata": {
        "colab": {
          "base_uri": "https://localhost:8080/",
          "height": 349
        },
        "id": "hgJSEGynWcdA",
        "outputId": "aac79f50-6cd4-435c-f90c-60a9e1f87e60"
      },
      "execution_count": 9,
      "outputs": [
        {
          "output_type": "display_data",
          "data": {
            "text/html": [
              "<table class=\"dataframe\">\n",
              "<caption>A data.frame: 8 × 3</caption>\n",
              "<thead>\n",
              "\t<tr><th scope=col>estimate</th><th scope=col>std.error</th><th scope=col>controls</th></tr>\n",
              "\t<tr><th scope=col>&lt;dbl&gt;</th><th scope=col>&lt;dbl&gt;</th><th scope=col>&lt;chr&gt;</th></tr>\n",
              "</thead>\n",
              "<tbody>\n",
              "\t<tr><td>1.4227118</td><td>0.02252110</td><td>       </td></tr>\n",
              "\t<tr><td>0.8942456</td><td>0.02298112</td><td>Z      </td></tr>\n",
              "\t<tr><td>1.5199690</td><td>0.02952699</td><td>U1     </td></tr>\n",
              "\t<tr><td>1.2529667</td><td>0.01658515</td><td>U2     </td></tr>\n",
              "\t<tr><td>0.9897030</td><td>0.02728260</td><td>Z,U1   </td></tr>\n",
              "\t<tr><td>1.0058609</td><td>0.01963437</td><td>Z,U2   </td></tr>\n",
              "\t<tr><td>1.2092460</td><td>0.02241172</td><td>U1,U2  </td></tr>\n",
              "\t<tr><td>1.0025725</td><td>0.02309452</td><td>Z,U1,U2</td></tr>\n",
              "</tbody>\n",
              "</table>\n"
            ],
            "text/markdown": "\nA data.frame: 8 × 3\n\n| estimate &lt;dbl&gt; | std.error &lt;dbl&gt; | controls &lt;chr&gt; |\n|---|---|---|\n| 1.4227118 | 0.02252110 | <!----> |\n| 0.8942456 | 0.02298112 | Z       |\n| 1.5199690 | 0.02952699 | U1      |\n| 1.2529667 | 0.01658515 | U2      |\n| 0.9897030 | 0.02728260 | Z,U1    |\n| 1.0058609 | 0.01963437 | Z,U2    |\n| 1.2092460 | 0.02241172 | U1,U2   |\n| 1.0025725 | 0.02309452 | Z,U1,U2 |\n\n",
            "text/latex": "A data.frame: 8 × 3\n\\begin{tabular}{lll}\n estimate & std.error & controls\\\\\n <dbl> & <dbl> & <chr>\\\\\n\\hline\n\t 1.4227118 & 0.02252110 &        \\\\\n\t 0.8942456 & 0.02298112 & Z      \\\\\n\t 1.5199690 & 0.02952699 & U1     \\\\\n\t 1.2529667 & 0.01658515 & U2     \\\\\n\t 0.9897030 & 0.02728260 & Z,U1   \\\\\n\t 1.0058609 & 0.01963437 & Z,U2   \\\\\n\t 1.2092460 & 0.02241172 & U1,U2  \\\\\n\t 1.0025725 & 0.02309452 & Z,U1,U2\\\\\n\\end{tabular}\n",
            "text/plain": [
              "  estimate  std.error  controls\n",
              "1 1.4227118 0.02252110         \n",
              "2 0.8942456 0.02298112 Z       \n",
              "3 1.5199690 0.02952699 U1      \n",
              "4 1.2529667 0.01658515 U2      \n",
              "5 0.9897030 0.02728260 Z,U1    \n",
              "6 1.0058609 0.01963437 Z,U2    \n",
              "7 1.2092460 0.02241172 U1,U2   \n",
              "8 1.0025725 0.02309452 Z,U1,U2 "
            ]
          },
          "metadata": {}
        }
      ]
    },
    {
      "cell_type": "code",
      "source": [
        "#Paso 10: Mostrar tabla bonita y exportar a /output\n",
        "# Crear carpeta output si no existe\n",
        "if(!dir.exists(\"output\")) dir.create(\"output\")\n",
        "\n",
        "# Exportar tabla\n",
        "stargazer(results, summary=FALSE, rownames=FALSE,\n",
        "          title=\"Resultados de regresiones (Parte 3)\",\n",
        "          out=\"output/regression_results.txt\")"
      ],
      "metadata": {
        "colab": {
          "base_uri": "https://localhost:8080/"
        },
        "id": "ID6kgKtOWeRv",
        "outputId": "372da597-7f87-4697-d2aa-db08080120c7"
      },
      "execution_count": 11,
      "outputs": [
        {
          "output_type": "stream",
          "name": "stdout",
          "text": [
            "\n",
            "% Table created by stargazer v.5.2.3 by Marek Hlavac, Social Policy Institute. E-mail: marek.hlavac at gmail.com\n",
            "% Date and time: Sat, Oct 04, 2025 - 05:51:51 PM\n",
            "\\begin{table}[!htbp] \\centering \n",
            "  \\caption{Resultados de regresiones (Parte 3)} \n",
            "  \\label{} \n",
            "\\begin{tabular}{@{\\extracolsep{5pt}} ccc} \n",
            "\\\\[-1.8ex]\\hline \n",
            "\\hline \\\\[-1.8ex] \n",
            "estimate & std.error & controls \\\\ \n",
            "\\hline \\\\[-1.8ex] \n",
            "$1.423$ & $0.023$ &  \\\\ \n",
            "$0.894$ & $0.023$ & Z \\\\ \n",
            "$1.520$ & $0.030$ & U1 \\\\ \n",
            "$1.253$ & $0.017$ & U2 \\\\ \n",
            "$0.990$ & $0.027$ & Z,U1 \\\\ \n",
            "$1.006$ & $0.020$ & Z,U2 \\\\ \n",
            "$1.209$ & $0.022$ & U1,U2 \\\\ \n",
            "$1.003$ & $0.023$ & Z,U1,U2 \\\\ \n",
            "\\hline \\\\[-1.8ex] \n",
            "\\end{tabular} \n",
            "\\end{table} \n"
          ]
        }
      ]
    }
  ]
}